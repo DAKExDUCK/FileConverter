{
 "cells": [
  {
   "cell_type": "code",
   "execution_count": 3,
   "metadata": {},
   "outputs": [],
   "source": [
    "formats = {\n",
    "    'DOCX': {\n",
    "        'pdf': {},\n",
    "        'odt': {},\n",
    "        'html': {},\n",
    "        'txt': {},\n",
    "        'rtf': {}\n",
    "    },\n",
    "    'PDF': {\n",
    "        'docx': {},\n",
    "        'xlsx': {},\n",
    "        'pptx': {},\n",
    "        'odt': {},\n",
    "        'ods': {},\n",
    "        'html': {},\n",
    "        'txt': {}\n",
    "    },\n",
    "    'PNG': {\n",
    "        'jpg': {},\n",
    "        'bmp': {},\n",
    "        'tiff': {},\n",
    "    },\n",
    "    'JPG': {\n",
    "        'png': {},\n",
    "        'bmp': {},\n",
    "        'tiff': {},\n",
    "    }\n",
    "}"
   ]
  },
  {
   "cell_type": "code",
   "execution_count": 5,
   "metadata": {},
   "outputs": [
    {
     "ename": "KeyError",
     "evalue": "'docx'",
     "output_type": "error",
     "traceback": [
      "\u001b[0;31m---------------------------------------------------------------------------\u001b[0m",
      "\u001b[0;31mKeyError\u001b[0m                                  Traceback (most recent call last)",
      "Cell \u001b[0;32mIn[5], line 24\u001b[0m\n\u001b[1;32m     21\u001b[0m     \u001b[39mcontinue\u001b[39;00m\n\u001b[1;32m     23\u001b[0m format_class \u001b[39m=\u001b[39m define_class_for_format(input_format)\n\u001b[0;32m---> 24\u001b[0m dest_formats \u001b[39m=\u001b[39m formats[input_format]\n\u001b[1;32m     25\u001b[0m input_obj \u001b[39m=\u001b[39m format_class(\u001b[39mf\u001b[39m\u001b[39m'\u001b[39m\u001b[39m{\u001b[39;00mdir_path\u001b[39m}\u001b[39;00m\u001b[39m/\u001b[39m\u001b[39m{\u001b[39;00mpath\u001b[39m}\u001b[39;00m\u001b[39m'\u001b[39m)\n\u001b[1;32m     27\u001b[0m success_formats \u001b[39m=\u001b[39m []\n",
      "\u001b[0;31mKeyError\u001b[0m: 'docx'"
     ]
    }
   ],
   "source": [
    "# test module for converting files to some formats (tested and new)\n",
    "# input path: media/{format}_input_{number}.{format}\n",
    "# output path: media/output/{format}_output_{number}.{dest_format}\n",
    "from io import BytesIO\n",
    "import os\n",
    "import time\n",
    "from file_converter import define_class_for_format\n",
    "from file_converter.exceptions import ErrorConvertFile\n",
    "from file_converter.types.document import Document\n",
    "\n",
    "\n",
    "dir_path = 'media'\n",
    "listdir = os.listdir(dir_path)\n",
    "listdir.sort()\n",
    "for path in listdir:\n",
    "    if not os.path.isfile(os.path.join(dir_path, path)):\n",
    "        continue\n",
    "    \n",
    "    input_name, input_format = path.split('.')\n",
    "    input_format = input_format.upper()\n",
    "    if input_format not in formats:\n",
    "        continue\n",
    "\n",
    "    format_class = define_class_for_format(input_format)\n",
    "    dest_formats = formats[input_format]\n",
    "    input_obj = format_class(f'{dir_path}/{path}')\n",
    "\n",
    "    success_formats = []\n",
    "    for dest_format, data in dest_formats.items():\n",
    "        if data == {}:\n",
    "            data['test_time'] = [] \n",
    "            data['test_size'] = [] \n",
    "        try:\n",
    "            start_time = time.time()\n",
    "            output_obj = input_obj.convert_to(dest_format)\n",
    "            end_time = time.time()\n",
    "        except ErrorConvertFile as exc:\n",
    "            # print(str(exc))\n",
    "            ...\n",
    "        else:\n",
    "            with open(f'media/output/{input_format}_output_{input_name.split(\"_\")[2]}.{dest_format}', 'wb') as outfile:\n",
    "                outfile.write(output_obj.getbuffer())\n",
    "                \n",
    "            data['test_time'].append(end_time - start_time)\n",
    "            if issubclass(format_class, Document):\n",
    "                data['test_size'].append(input_obj.doc.getbuffer().nbytes / 1_000_000)\n",
    "            else:\n",
    "                output = BytesIO()\n",
    "                input_obj.img.save(output, format=input_obj.format)\n",
    "                data['test_size'].append(output.getbuffer().nbytes / 1_000_000)\n",
    "\n",
    "            success_formats.append(dest_format)\n",
    "\n",
    "    print(f\"{path} -> {', '.join(success_formats)}\")\n",
    "    \n",
    "print()\n",
    "for from_format, to_formats in formats.items():\n",
    "    for to_format, data in to_formats.items():\n",
    "        times = data.get('test_time', [])\n",
    "        sizes = data.get('test_size', [])\n",
    "        if times == []:\n",
    "            continue\n",
    "\n",
    "        avg_time = sum(times) / len(times)\n",
    "        min_time = min(times)\n",
    "        max_time = max(times)\n",
    "        size_min_time = sizes[times.index(min_time)]\n",
    "        size_max_time = sizes[times.index(max_time)]\n",
    "        print(f\"{from_format} -> {to_format} - {avg_time:.3f}sec AVG  |  {min_time:.3f}sec MIN ({size_min_time:.2f}mb)  |  {max_time:.3f}sec MAX ({size_max_time:.2f}mb)\")"
   ]
  },
  {
   "cell_type": "code",
   "execution_count": null,
   "metadata": {},
   "outputs": [],
   "source": []
  },
  {
   "cell_type": "code",
   "execution_count": null,
   "metadata": {},
   "outputs": [],
   "source": [
    "# sort and name test files\n",
    "import os\n",
    "\n",
    "def rename_files(directory):\n",
    "    file_count = {}\n",
    "    for filename in os.listdir(directory):\n",
    "        if os.path.isfile(os.path.join(directory, filename)):\n",
    "            file_extension = os.path.splitext(filename)[1][1:]\n",
    "            if file_extension not in file_count:\n",
    "                file_count[file_extension] = 1\n",
    "            else:\n",
    "                file_count[file_extension] += 1\n",
    "\n",
    "            new_filename = f\"{file_extension}_input_{file_count[file_extension]}.{file_extension}\"\n",
    "            os.rename(os.path.join(directory, filename), os.path.join(directory, new_filename))\n",
    "\n",
    "directory_path = \"media\"\n",
    "\n",
    "rename_files(directory_path)\n"
   ]
  },
  {
   "cell_type": "code",
   "execution_count": null,
   "metadata": {},
   "outputs": [],
   "source": []
  },
  {
   "cell_type": "code",
   "execution_count": 1,
   "metadata": {},
   "outputs": [
    {
     "name": "stdout",
     "output_type": "stream",
     "text": [
      "<class 'file_converter.jpg.JPGs'>\n"
     ]
    }
   ],
   "source": [
    "import file_converter\n",
    "\n",
    "format = file_converter.define_class_for_format('JPGs')\n",
    "print(format)"
   ]
  },
  {
   "cell_type": "code",
   "execution_count": null,
   "metadata": {},
   "outputs": [],
   "source": []
  },
  {
   "cell_type": "code",
   "execution_count": null,
   "metadata": {},
   "outputs": [],
   "source": []
  }
 ],
 "metadata": {
  "kernelspec": {
   "display_name": "venv",
   "language": "python",
   "name": "python3"
  },
  "language_info": {
   "codemirror_mode": {
    "name": "ipython",
    "version": 3
   },
   "file_extension": ".py",
   "mimetype": "text/x-python",
   "name": "python",
   "nbconvert_exporter": "python",
   "pygments_lexer": "ipython3",
   "version": "3.10.12"
  },
  "orig_nbformat": 4
 },
 "nbformat": 4,
 "nbformat_minor": 2
}
