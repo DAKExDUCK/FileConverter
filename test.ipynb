{
 "cells": [
  {
   "cell_type": "code",
   "execution_count": 1,
   "metadata": {},
   "outputs": [],
   "source": [
    "formats = {\n",
    "    'docx': {\n",
    "        'pdf': {},\n",
    "        'odt': {},\n",
    "        'html': {},\n",
    "        'txt': {},\n",
    "        'rtf': {}\n",
    "    },\n",
    "    'pdf': {\n",
    "        'docx': {},\n",
    "        'xlsx': {},\n",
    "        'pptx': {},\n",
    "        'odt': {},\n",
    "        'ods': {},\n",
    "        'html': {},\n",
    "        'txt': {}\n",
    "    },\n",
    "    'png': {\n",
    "        'jpg': {},\n",
    "        'bmp': {},\n",
    "        'tiff': {},\n",
    "    },\n",
    "    'jpg': {\n",
    "        'png': {},\n",
    "        'bmp': {},\n",
    "        'tiff': {},\n",
    "    }\n",
    "}"
   ]
  },
  {
   "cell_type": "code",
   "execution_count": 2,
   "metadata": {},
   "outputs": [
    {
     "name": "stdout",
     "output_type": "stream",
     "text": [
      "docx_input_1.docx -> pdf, odt, html, txt, rtf\n",
      "docx_input_2.docx -> pdf, odt, html, txt, rtf\n",
      "jpg_input_1.jpg -> png, bmp, tiff\n",
      "jpg_input_2.jpg -> png, bmp, tiff\n",
      "jpg_input_3.jpg -> png, bmp, tiff\n",
      "pdf_input_1.pdf -> html\n",
      "pdf_input_2.pdf -> html\n",
      "pdf_input_3.pdf -> html\n",
      "png_input_1.png -> jpg, bmp, tiff\n",
      "png_input_2.png -> jpg, bmp, tiff\n",
      "\n",
      "docx -> pdf - 1.698sec AVG  |  1.656sec MIN (0.02mb)  |  1.739sec MAX (0.02mb)\n",
      "docx -> odt - 2.143sec AVG  |  2.060sec MIN (0.02mb)  |  2.225sec MAX (0.02mb)\n",
      "docx -> html - 1.657sec AVG  |  1.618sec MIN (0.02mb)  |  1.696sec MAX (0.02mb)\n",
      "docx -> txt - 1.598sec AVG  |  1.470sec MIN (0.02mb)  |  1.725sec MAX (0.02mb)\n",
      "docx -> rtf - 1.692sec AVG  |  1.637sec MIN (0.02mb)  |  1.748sec MAX (0.02mb)\n",
      "pdf -> html - 1.983sec AVG  |  1.775sec MIN (0.04mb)  |  2.190sec MAX (0.41mb)\n",
      "png -> jpg - 0.012sec AVG  |  0.009sec MIN (0.15mb)  |  0.016sec MAX (0.75mb)\n",
      "png -> bmp - 0.003sec AVG  |  0.002sec MIN (0.15mb)  |  0.004sec MAX (0.75mb)\n",
      "png -> tiff - 0.003sec AVG  |  0.002sec MIN (0.15mb)  |  0.004sec MAX (0.75mb)\n",
      "jpg -> png - 0.279sec AVG  |  0.022sec MIN (0.01mb)  |  0.689sec MAX (0.10mb)\n",
      "jpg -> bmp - 0.003sec AVG  |  0.001sec MIN (0.01mb)  |  0.005sec MAX (0.10mb)\n",
      "jpg -> tiff - 0.018sec AVG  |  0.002sec MIN (0.04mb)  |  0.048sec MAX (0.01mb)\n"
     ]
    }
   ],
   "source": [
    "# test module for converting files to some formats (tested and new)\n",
    "# input path: media/{format}_input_{number}.{format}\n",
    "# output path: media/output/{format}_output_{number}.{dest_format}\n",
    "from io import BytesIO\n",
    "import os\n",
    "import time\n",
    "from file_converter import define_class_for_format\n",
    "from file_converter.exceptions import ErrorConvertFile\n",
    "from file_converter.types.document import Document\n",
    "\n",
    "\n",
    "dir_path = 'media'\n",
    "listdir = os.listdir(dir_path)\n",
    "listdir.sort()\n",
    "for path in listdir:\n",
    "    if not os.path.isfile(os.path.join(dir_path, path)):\n",
    "        continue\n",
    "    \n",
    "    input_name, input_format = path.split('.')\n",
    "    if input_format not in formats:\n",
    "        continue\n",
    "\n",
    "    format_class = define_class_for_format(input_format)\n",
    "    dest_formats = formats[input_format]\n",
    "    input_obj = format_class(f'{dir_path}/{path}')\n",
    "\n",
    "    success_formats = []\n",
    "    for dest_format, data in dest_formats.items():\n",
    "        if data == {}:\n",
    "            data['test_time'] = [] \n",
    "            data['test_size'] = [] \n",
    "        try:\n",
    "            start_time = time.time()\n",
    "            output_obj = input_obj.convert_to(dest_format)\n",
    "            end_time = time.time()\n",
    "        except ErrorConvertFile as exc:\n",
    "            # print(str(exc))\n",
    "            ...\n",
    "        else:\n",
    "            with open(f'media/output/{input_format}_output_{input_name.split(\"_\")[2]}.{dest_format}', 'wb') as outfile:\n",
    "                outfile.write(output_obj.getbuffer())\n",
    "                \n",
    "            data['test_time'].append(end_time - start_time)\n",
    "            if issubclass(format_class, Document):\n",
    "                data['test_size'].append(input_obj.doc.getbuffer().nbytes / 1_000_000)\n",
    "            else:\n",
    "                output = BytesIO()\n",
    "                input_obj.img.save(output, format=input_obj.format)\n",
    "                data['test_size'].append(output.getbuffer().nbytes / 1_000_000)\n",
    "\n",
    "            success_formats.append(dest_format)\n",
    "\n",
    "    print(f\"{path} -> {', '.join(success_formats)}\")\n",
    "    \n",
    "print()\n",
    "for from_format, to_formats in formats.items():\n",
    "    for to_format, data in to_formats.items():\n",
    "        times = data.get('test_time', [])\n",
    "        sizes = data.get('test_size', [])\n",
    "        if times == []:\n",
    "            continue\n",
    "\n",
    "        avg_time = sum(times) / len(times)\n",
    "        min_time = min(times)\n",
    "        max_time = max(times)\n",
    "        size_min_time = sizes[times.index(min_time)]\n",
    "        size_max_time = sizes[times.index(max_time)]\n",
    "        print(f\"{from_format} -> {to_format} - {avg_time:.3f}sec AVG  |  {min_time:.3f}sec MIN ({size_min_time:.2f}mb)  |  {max_time:.3f}sec MAX ({size_max_time:.2f}mb)\")"
   ]
  },
  {
   "cell_type": "code",
   "execution_count": null,
   "metadata": {},
   "outputs": [],
   "source": []
  },
  {
   "cell_type": "code",
   "execution_count": null,
   "metadata": {},
   "outputs": [],
   "source": [
    "# sort and name test files\n",
    "import os\n",
    "\n",
    "def rename_files(directory):\n",
    "    file_count = {}\n",
    "    for filename in os.listdir(directory):\n",
    "        if os.path.isfile(os.path.join(directory, filename)):\n",
    "            file_extension = os.path.splitext(filename)[1][1:]\n",
    "            if file_extension not in file_count:\n",
    "                file_count[file_extension] = 1\n",
    "            else:\n",
    "                file_count[file_extension] += 1\n",
    "\n",
    "            new_filename = f\"{file_extension}_input_{file_count[file_extension]}.{file_extension}\"\n",
    "            os.rename(os.path.join(directory, filename), os.path.join(directory, new_filename))\n",
    "\n",
    "directory_path = \"media\"\n",
    "\n",
    "rename_files(directory_path)\n"
   ]
  },
  {
   "cell_type": "code",
   "execution_count": null,
   "metadata": {},
   "outputs": [],
   "source": []
  },
  {
   "cell_type": "code",
   "execution_count": 1,
   "metadata": {},
   "outputs": [
    {
     "ename": "ValueError",
     "evalue": "'JPGS' is not in list",
     "output_type": "error",
     "traceback": [
      "\u001b[0;31m---------------------------------------------------------------------------\u001b[0m",
      "\u001b[0;31mValueError\u001b[0m                                Traceback (most recent call last)",
      "Cell \u001b[0;32mIn[1], line 3\u001b[0m\n\u001b[1;32m      1\u001b[0m \u001b[39mimport\u001b[39;00m \u001b[39mfile_converter\u001b[39;00m\n\u001b[0;32m----> 3\u001b[0m \u001b[39mformat\u001b[39m \u001b[39m=\u001b[39m file_converter\u001b[39m.\u001b[39;49mdefine_class_for_format(\u001b[39m'\u001b[39;49m\u001b[39mJPGs\u001b[39;49m\u001b[39m'\u001b[39;49m)\n\u001b[1;32m      4\u001b[0m \u001b[39mprint\u001b[39m(\u001b[39mformat\u001b[39m)\n",
      "File \u001b[0;32m~/Projects/python/file_converter/file_converter/__init__.py:21\u001b[0m, in \u001b[0;36mdefine_class_for_format\u001b[0;34m(key)\u001b[0m\n\u001b[1;32m     18\u001b[0m \u001b[39mif\u001b[39;00m key \u001b[39mnot\u001b[39;00m \u001b[39min\u001b[39;00m __all__:\n\u001b[1;32m     19\u001b[0m     \u001b[39mreturn\u001b[39;00m \u001b[39mNone\u001b[39;00m\n\u001b[0;32m---> 21\u001b[0m index \u001b[39m=\u001b[39m __all__\u001b[39m.\u001b[39;49mindex(key\u001b[39m.\u001b[39;49mupper())\n\u001b[1;32m     22\u001b[0m name \u001b[39m=\u001b[39m __all__[index]\n\u001b[1;32m     23\u001b[0m obj \u001b[39m=\u001b[39m \u001b[39mglobals\u001b[39m()\u001b[39m.\u001b[39mget(name)\n",
      "\u001b[0;31mValueError\u001b[0m: 'JPGS' is not in list"
     ]
    }
   ],
   "source": [
    "import file_converter\n",
    "\n",
    "format = file_converter.define_class_for_format('JPGs')\n",
    "print(format)"
   ]
  },
  {
   "cell_type": "code",
   "execution_count": null,
   "metadata": {},
   "outputs": [],
   "source": []
  },
  {
   "cell_type": "code",
   "execution_count": null,
   "metadata": {},
   "outputs": [],
   "source": []
  }
 ],
 "metadata": {
  "kernelspec": {
   "display_name": "venv",
   "language": "python",
   "name": "python3"
  },
  "language_info": {
   "codemirror_mode": {
    "name": "ipython",
    "version": 3
   },
   "file_extension": ".py",
   "mimetype": "text/x-python",
   "name": "python",
   "nbconvert_exporter": "python",
   "pygments_lexer": "ipython3",
   "version": "3.10.12"
  },
  "orig_nbformat": 4
 },
 "nbformat": 4,
 "nbformat_minor": 2
}
